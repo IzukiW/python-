{
 "cells": [
  {
   "cell_type": "markdown",
   "metadata": {},
   "source": [
    "はじめに必要そうなモジュールをimportします．\n",
    "\n",
    "今回は統計解析にScipyではなく，[Pingouin](https://pingouin-stats.org/build/html/index.html)を使ってみます．\n",
    "installは\n",
    "`pip install pingouin`\n",
    "で可能です．"
   ]
  },
  {
   "cell_type": "code",
   "execution_count": 4,
   "metadata": {},
   "outputs": [],
   "source": [
    "import scipy #科学計算用\n",
    "import pandas as pd #データ分析用\n",
    "import numpy as np #多次元配列計算用\n",
    "\n",
    "import pingouin as pg #統計解析用"
   ]
  },
  {
   "cell_type": "markdown",
   "metadata": {},
   "source": [
    "csvファイルを読み込ませてdataframeにします．\n",
    "ファイルを検索するためのpathを通しておきます．\n",
    "\n",
    "でも最初から同じフォルダもしくは子フォルダにあると便利ですよね．"
   ]
  },
  {
   "cell_type": "code",
   "execution_count": 7,
   "metadata": {},
   "outputs": [
    {
     "data": {
      "text/plain": [
       "['c:\\\\Users\\\\zucky\\\\OneDrive\\\\デスクトップ\\\\test\\\\github-lab',\n",
       " 'c:\\\\Users\\\\zucky\\\\anaconda3\\\\python311.zip',\n",
       " 'c:\\\\Users\\\\zucky\\\\anaconda3\\\\DLLs',\n",
       " 'c:\\\\Users\\\\zucky\\\\anaconda3\\\\Lib',\n",
       " 'c:\\\\Users\\\\zucky\\\\anaconda3',\n",
       " '',\n",
       " 'c:\\\\Users\\\\zucky\\\\anaconda3\\\\Lib\\\\site-packages',\n",
       " 'c:\\\\Users\\\\zucky\\\\anaconda3\\\\Lib\\\\site-packages\\\\win32',\n",
       " 'c:\\\\Users\\\\zucky\\\\anaconda3\\\\Lib\\\\site-packages\\\\win32\\\\lib',\n",
       " 'c:\\\\Users\\\\zucky\\\\anaconda3\\\\Lib\\\\site-packages\\\\Pythonwin',\n",
       " 'C:\\\\Users\\\\zucky\\\\OneDrive - The University of Tokyo\\\\行動実験解析',\n",
       " 'C:\\\\Users\\\\zucky\\\\OneDrive - The University of Tokyo\\\\行動実験解析']"
      ]
     },
     "execution_count": 7,
     "metadata": {},
     "output_type": "execute_result"
    }
   ],
   "source": [
    "import sys\n",
    "\n",
    "sys.path.append(r'C:\\Users\\zucky\\OneDrive - The University of Tokyo\\行動実験解析')\n",
    "sys.path"
   ]
  },
  {
   "cell_type": "code",
   "execution_count": 13,
   "metadata": {},
   "outputs": [
    {
     "data": {
      "text/html": [
       "<div>\n",
       "<style scoped>\n",
       "    .dataframe tbody tr th:only-of-type {\n",
       "        vertical-align: middle;\n",
       "    }\n",
       "\n",
       "    .dataframe tbody tr th {\n",
       "        vertical-align: top;\n",
       "    }\n",
       "\n",
       "    .dataframe thead th {\n",
       "        text-align: right;\n",
       "    }\n",
       "</style>\n",
       "<table border=\"1\" class=\"dataframe\">\n",
       "  <thead>\n",
       "    <tr style=\"text-align: right;\">\n",
       "      <th></th>\n",
       "      <th>Unnamed: 0</th>\n",
       "      <th>bwd _no stim.(30s)</th>\n",
       "      <th>bwd _during stim.(30s)</th>\n",
       "      <th>fwd _no stim.(30s)</th>\n",
       "      <th>fwd _during stim.(30s)</th>\n",
       "      <th>turn _no stim.(30s)</th>\n",
       "      <th>turn _stim.(30s)</th>\n",
       "      <th>Unnamed: 7</th>\n",
       "      <th>Unnamed: 8</th>\n",
       "      <th>Unnamed: 9</th>\n",
       "    </tr>\n",
       "  </thead>\n",
       "  <tbody>\n",
       "    <tr>\n",
       "      <th>0</th>\n",
       "      <td>R15C03&gt;CsCh</td>\n",
       "      <td>NaN</td>\n",
       "      <td>NaN</td>\n",
       "      <td>NaN</td>\n",
       "      <td>NaN</td>\n",
       "      <td>NaN</td>\n",
       "      <td>NaN</td>\n",
       "      <td>NaN</td>\n",
       "      <td>NaN</td>\n",
       "      <td>NaN</td>\n",
       "    </tr>\n",
       "    <tr>\n",
       "      <th>1</th>\n",
       "      <td>5.0mW   1</td>\n",
       "      <td>0.0</td>\n",
       "      <td>1.0</td>\n",
       "      <td>17.0</td>\n",
       "      <td>19.0</td>\n",
       "      <td>6.0</td>\n",
       "      <td>2.0</td>\n",
       "      <td>NaN</td>\n",
       "      <td>NaN</td>\n",
       "      <td>tsh-Gai80×</td>\n",
       "    </tr>\n",
       "    <tr>\n",
       "      <th>2</th>\n",
       "      <td>5.0mW   2</td>\n",
       "      <td>0.0</td>\n",
       "      <td>0.0</td>\n",
       "      <td>26.0</td>\n",
       "      <td>17.0</td>\n",
       "      <td>3.0</td>\n",
       "      <td>2.0</td>\n",
       "      <td>NaN</td>\n",
       "      <td>0.58で壁に到達し静止，stim3中はプレート壁上を歩いていたためノーカン</td>\n",
       "      <td>NaN</td>\n",
       "    </tr>\n",
       "    <tr>\n",
       "      <th>3</th>\n",
       "      <td>5.0mW   3</td>\n",
       "      <td>0.0</td>\n",
       "      <td>0.0</td>\n",
       "      <td>18.0</td>\n",
       "      <td>15.0</td>\n",
       "      <td>1.0</td>\n",
       "      <td>2.0</td>\n",
       "      <td>NaN</td>\n",
       "      <td>stim1,2でrolling</td>\n",
       "      <td>NaN</td>\n",
       "    </tr>\n",
       "    <tr>\n",
       "      <th>4</th>\n",
       "      <td>5.0mW   4</td>\n",
       "      <td>0.0</td>\n",
       "      <td>0.0</td>\n",
       "      <td>18.0</td>\n",
       "      <td>14.0</td>\n",
       "      <td>1.0</td>\n",
       "      <td>1.0</td>\n",
       "      <td>NaN</td>\n",
       "      <td>NaN</td>\n",
       "      <td>おそらくtsh-Gai80×</td>\n",
       "    </tr>\n",
       "    <tr>\n",
       "      <th>5</th>\n",
       "      <td>3.0mW   1</td>\n",
       "      <td>0.0</td>\n",
       "      <td>0.0</td>\n",
       "      <td>15.0</td>\n",
       "      <td>15.0</td>\n",
       "      <td>7.0</td>\n",
       "      <td>3.0</td>\n",
       "      <td>NaN</td>\n",
       "      <td>0.53, 1.19でbwd1回</td>\n",
       "      <td>NaN</td>\n",
       "    </tr>\n",
       "    <tr>\n",
       "      <th>6</th>\n",
       "      <td>3.0mW   2</td>\n",
       "      <td>0.0</td>\n",
       "      <td>0.0</td>\n",
       "      <td>21.0</td>\n",
       "      <td>19.0</td>\n",
       "      <td>0.0</td>\n",
       "      <td>0.0</td>\n",
       "      <td>NaN</td>\n",
       "      <td>0.49でプレート壁に衝突</td>\n",
       "      <td>NaN</td>\n",
       "    </tr>\n",
       "    <tr>\n",
       "      <th>7</th>\n",
       "      <td>3.0mW   3</td>\n",
       "      <td>0.0</td>\n",
       "      <td>0.0</td>\n",
       "      <td>28.0</td>\n",
       "      <td>24.0</td>\n",
       "      <td>0.0</td>\n",
       "      <td>2.0</td>\n",
       "      <td>NaN</td>\n",
       "      <td>0.36で壁際まで進み静止．プレート壁に衝突</td>\n",
       "      <td>NaN</td>\n",
       "    </tr>\n",
       "    <tr>\n",
       "      <th>8</th>\n",
       "      <td>3.0mW   4</td>\n",
       "      <td>0.0</td>\n",
       "      <td>0.0</td>\n",
       "      <td>19.0</td>\n",
       "      <td>16.0</td>\n",
       "      <td>3.0</td>\n",
       "      <td>3.0</td>\n",
       "      <td>NaN</td>\n",
       "      <td>NaN</td>\n",
       "      <td>NaN</td>\n",
       "    </tr>\n",
       "    <tr>\n",
       "      <th>9</th>\n",
       "      <td>NaN</td>\n",
       "      <td>NaN</td>\n",
       "      <td>NaN</td>\n",
       "      <td>NaN</td>\n",
       "      <td>NaN</td>\n",
       "      <td>NaN</td>\n",
       "      <td>NaN</td>\n",
       "      <td>NaN</td>\n",
       "      <td>NaN</td>\n",
       "      <td>NaN</td>\n",
       "    </tr>\n",
       "    <tr>\n",
       "      <th>10</th>\n",
       "      <td>R72E03&gt;CsCh</td>\n",
       "      <td>NaN</td>\n",
       "      <td>NaN</td>\n",
       "      <td>NaN</td>\n",
       "      <td>NaN</td>\n",
       "      <td>NaN</td>\n",
       "      <td>NaN</td>\n",
       "      <td>NaN</td>\n",
       "      <td>NaN</td>\n",
       "      <td>NaN</td>\n",
       "    </tr>\n",
       "    <tr>\n",
       "      <th>11</th>\n",
       "      <td>5.0mW   1</td>\n",
       "      <td>1.0</td>\n",
       "      <td>4.0</td>\n",
       "      <td>12.0</td>\n",
       "      <td>10.0</td>\n",
       "      <td>2.0</td>\n",
       "      <td>1.0</td>\n",
       "      <td>NaN</td>\n",
       "      <td>0.17でbwd.stim1,2,3でrolling</td>\n",
       "      <td>NaN</td>\n",
       "    </tr>\n",
       "    <tr>\n",
       "      <th>12</th>\n",
       "      <td>5.0mW   2</td>\n",
       "      <td>0.0</td>\n",
       "      <td>0.0</td>\n",
       "      <td>17.0</td>\n",
       "      <td>11.0</td>\n",
       "      <td>0.0</td>\n",
       "      <td>0.0</td>\n",
       "      <td>NaN</td>\n",
       "      <td>stim1,2,3でrolling</td>\n",
       "      <td>NaN</td>\n",
       "    </tr>\n",
       "    <tr>\n",
       "      <th>13</th>\n",
       "      <td>5.0mW   3</td>\n",
       "      <td>0.0</td>\n",
       "      <td>0.0</td>\n",
       "      <td>19.0</td>\n",
       "      <td>13.0</td>\n",
       "      <td>3.0</td>\n",
       "      <td>2.0</td>\n",
       "      <td>NaN</td>\n",
       "      <td>NaN</td>\n",
       "      <td>NaN</td>\n",
       "    </tr>\n",
       "    <tr>\n",
       "      <th>14</th>\n",
       "      <td>5.0mW   4</td>\n",
       "      <td>0.0</td>\n",
       "      <td>2.0</td>\n",
       "      <td>18.0</td>\n",
       "      <td>16.0</td>\n",
       "      <td>1.0</td>\n",
       "      <td>1.0</td>\n",
       "      <td>NaN</td>\n",
       "      <td>stim1,2,3でrolling</td>\n",
       "      <td>NaN</td>\n",
       "    </tr>\n",
       "    <tr>\n",
       "      <th>15</th>\n",
       "      <td>3.0mW   1</td>\n",
       "      <td>0.0</td>\n",
       "      <td>0.0</td>\n",
       "      <td>21.0</td>\n",
       "      <td>17.0</td>\n",
       "      <td>3.0</td>\n",
       "      <td>1.0</td>\n",
       "      <td>NaN</td>\n",
       "      <td>NaN</td>\n",
       "      <td>NaN</td>\n",
       "    </tr>\n",
       "    <tr>\n",
       "      <th>16</th>\n",
       "      <td>3.0mW   2</td>\n",
       "      <td>0.0</td>\n",
       "      <td>0.0</td>\n",
       "      <td>17.0</td>\n",
       "      <td>14.0</td>\n",
       "      <td>0.0</td>\n",
       "      <td>2.0</td>\n",
       "      <td>NaN</td>\n",
       "      <td>NaN</td>\n",
       "      <td>NaN</td>\n",
       "    </tr>\n",
       "    <tr>\n",
       "      <th>17</th>\n",
       "      <td>3.0mW   3</td>\n",
       "      <td>0.0</td>\n",
       "      <td>2.0</td>\n",
       "      <td>25.0</td>\n",
       "      <td>5.0</td>\n",
       "      <td>3.0</td>\n",
       "      <td>1.0</td>\n",
       "      <td>NaN</td>\n",
       "      <td>stim1中静止．stim2,3でも光が当たり始めた数秒は静止．0.42でbwd</td>\n",
       "      <td>NaN</td>\n",
       "    </tr>\n",
       "    <tr>\n",
       "      <th>18</th>\n",
       "      <td>3.0mW   4</td>\n",
       "      <td>0.0</td>\n",
       "      <td>0.0</td>\n",
       "      <td>19.0</td>\n",
       "      <td>13.0</td>\n",
       "      <td>3.0</td>\n",
       "      <td>0.0</td>\n",
       "      <td>NaN</td>\n",
       "      <td>stim1,2,3でrolling</td>\n",
       "      <td>tsh-Gai80×</td>\n",
       "    </tr>\n",
       "  </tbody>\n",
       "</table>\n",
       "</div>"
      ],
      "text/plain": [
       "     Unnamed: 0  bwd _no stim.(30s)  bwd _during stim.(30s)  \\\n",
       "0   R15C03>CsCh                 NaN                     NaN   \n",
       "1     5.0mW   1                 0.0                     1.0   \n",
       "2     5.0mW   2                 0.0                     0.0   \n",
       "3     5.0mW   3                 0.0                     0.0   \n",
       "4     5.0mW   4                 0.0                     0.0   \n",
       "5     3.0mW   1                 0.0                     0.0   \n",
       "6     3.0mW   2                 0.0                     0.0   \n",
       "7     3.0mW   3                 0.0                     0.0   \n",
       "8     3.0mW   4                 0.0                     0.0   \n",
       "9           NaN                 NaN                     NaN   \n",
       "10  R72E03>CsCh                 NaN                     NaN   \n",
       "11    5.0mW   1                 1.0                     4.0   \n",
       "12    5.0mW   2                 0.0                     0.0   \n",
       "13    5.0mW   3                 0.0                     0.0   \n",
       "14    5.0mW   4                 0.0                     2.0   \n",
       "15    3.0mW   1                 0.0                     0.0   \n",
       "16    3.0mW   2                 0.0                     0.0   \n",
       "17    3.0mW   3                 0.0                     2.0   \n",
       "18    3.0mW   4                 0.0                     0.0   \n",
       "\n",
       "    fwd _no stim.(30s)  fwd _during stim.(30s)  turn _no stim.(30s)  \\\n",
       "0                  NaN                     NaN                  NaN   \n",
       "1                 17.0                    19.0                  6.0   \n",
       "2                 26.0                    17.0                  3.0   \n",
       "3                 18.0                    15.0                  1.0   \n",
       "4                 18.0                    14.0                  1.0   \n",
       "5                 15.0                    15.0                  7.0   \n",
       "6                 21.0                    19.0                  0.0   \n",
       "7                 28.0                    24.0                  0.0   \n",
       "8                 19.0                    16.0                  3.0   \n",
       "9                  NaN                     NaN                  NaN   \n",
       "10                 NaN                     NaN                  NaN   \n",
       "11                12.0                    10.0                  2.0   \n",
       "12                17.0                    11.0                  0.0   \n",
       "13                19.0                    13.0                  3.0   \n",
       "14                18.0                    16.0                  1.0   \n",
       "15                21.0                    17.0                  3.0   \n",
       "16                17.0                    14.0                  0.0   \n",
       "17                25.0                     5.0                  3.0   \n",
       "18                19.0                    13.0                  3.0   \n",
       "\n",
       "    turn _stim.(30s)  Unnamed: 7                                Unnamed: 8  \\\n",
       "0                NaN         NaN                                       NaN   \n",
       "1                2.0         NaN                                       NaN   \n",
       "2                2.0         NaN    0.58で壁に到達し静止，stim3中はプレート壁上を歩いていたためノーカン   \n",
       "3                2.0         NaN                           stim1,2でrolling   \n",
       "4                1.0         NaN                                       NaN   \n",
       "5                3.0         NaN                          0.53, 1.19でbwd1回   \n",
       "6                0.0         NaN                             0.49でプレート壁に衝突   \n",
       "7                2.0         NaN                    0.36で壁際まで進み静止．プレート壁に衝突   \n",
       "8                3.0         NaN                                       NaN   \n",
       "9                NaN         NaN                                       NaN   \n",
       "10               NaN         NaN                                       NaN   \n",
       "11               1.0         NaN                0.17でbwd.stim1,2,3でrolling   \n",
       "12               0.0         NaN                         stim1,2,3でrolling   \n",
       "13               2.0         NaN                                       NaN   \n",
       "14               1.0         NaN                         stim1,2,3でrolling   \n",
       "15               1.0         NaN                                       NaN   \n",
       "16               2.0         NaN                                       NaN   \n",
       "17               1.0         NaN  stim1中静止．stim2,3でも光が当たり始めた数秒は静止．0.42でbwd   \n",
       "18               0.0         NaN                         stim1,2,3でrolling   \n",
       "\n",
       "        Unnamed: 9  \n",
       "0              NaN  \n",
       "1       tsh-Gai80×  \n",
       "2              NaN  \n",
       "3              NaN  \n",
       "4   おそらくtsh-Gai80×  \n",
       "5              NaN  \n",
       "6              NaN  \n",
       "7              NaN  \n",
       "8              NaN  \n",
       "9              NaN  \n",
       "10             NaN  \n",
       "11             NaN  \n",
       "12             NaN  \n",
       "13             NaN  \n",
       "14             NaN  \n",
       "15             NaN  \n",
       "16             NaN  \n",
       "17             NaN  \n",
       "18      tsh-Gai80×  "
      ]
     },
     "execution_count": 13,
     "metadata": {},
     "output_type": "execute_result"
    }
   ],
   "source": [
    "df =pd.read_csv('copy-231221_BLT_A19d_CsChrimson.csv')\n",
    "\n",
    "df"
   ]
  },
  {
   "cell_type": "markdown",
   "metadata": {},
   "source": [
    "今回は条件の異なるデータが同じ列内に混在している悪いcsvファイルを使用したため，データの切り分け作業が発生します．違う実験のデータは違うファイルにまとめましょう(戒め)．\n",
    "\n",
    "R72E03>CsCh，3.0mWのデータ(15-18行目)について検定をしていくことにします．"
   ]
  },
  {
   "cell_type": "code",
   "execution_count": 29,
   "metadata": {},
   "outputs": [],
   "source": [
    "#dataframeをseriesに変換\n",
    "ser_bwd_ctrl =df.loc[15:19, 'bwd _no stim.(30s)']\n",
    "ser_bwd_exp =df.loc[15:19, 'bwd _during stim.(30s)']\n",
    "\n",
    "ser_fwd_ctrl =df.loc[15:19, 'fwd _no stim.(30s)']\n",
    "ser_fwd_exp =df.loc[15:19, 'fwd _during stim.(30s)']\n",
    "\n",
    "ser_turn_ctrl =df.loc[15:19, 'turn _no stim.(30s)']\n",
    "ser_turn_exp =df.loc[15:19, 'turn _stim.(30s)']"
   ]
  },
  {
   "cell_type": "markdown",
   "metadata": {},
   "source": [
    "データが抽出できているか確認してみます．"
   ]
  },
  {
   "cell_type": "code",
   "execution_count": 33,
   "metadata": {},
   "outputs": [
    {
     "data": {
      "text/plain": [
       "15    0.0\n",
       "16    0.0\n",
       "17    0.0\n",
       "18    0.0\n",
       "Name: bwd _no stim.(30s), dtype: float64"
      ]
     },
     "execution_count": 33,
     "metadata": {},
     "output_type": "execute_result"
    }
   ],
   "source": [
    "ser_bwd_ctrl"
   ]
  },
  {
   "cell_type": "code",
   "execution_count": 32,
   "metadata": {},
   "outputs": [
    {
     "name": "stdout",
     "output_type": "stream",
     "text": [
      "15    0.0\n",
      "16    0.0\n",
      "17    2.0\n",
      "18    0.0\n",
      "Name: bwd _during stim.(30s), dtype: float64\n",
      "<class 'pandas.core.series.Series'>\n"
     ]
    }
   ],
   "source": [
    "print(ser_bwd_exp)\n",
    "print(type(ser_bwd_exp))"
   ]
  },
  {
   "cell_type": "markdown",
   "metadata": {},
   "source": [
    "seriesのままでは統計にかけられないためlistに変換します．"
   ]
  },
  {
   "cell_type": "code",
   "execution_count": 34,
   "metadata": {},
   "outputs": [],
   "source": [
    "ls_bwd_ctrl =ser_bwd_ctrl.tolist()\n",
    "ls_bwd_exp =ser_bwd_exp.tolist()\n",
    "\n",
    "ls_fwd_ctrl =ser_fwd_ctrl.tolist()\n",
    "ls_fwd_exp =ser_fwd_exp.tolist()\n",
    "\n",
    "ls_turn_ctrl =ser_turn_ctrl.tolist()\n",
    "ls_turn_exp =ser_turn_exp.tolist()"
   ]
  },
  {
   "cell_type": "code",
   "execution_count": 35,
   "metadata": {},
   "outputs": [
    {
     "data": {
      "text/plain": [
       "[0.0, 0.0, 2.0, 0.0]"
      ]
     },
     "execution_count": 35,
     "metadata": {},
     "output_type": "execute_result"
    }
   ],
   "source": [
    "ls_bwd_exp"
   ]
  },
  {
   "cell_type": "markdown",
   "metadata": {},
   "source": [
    "pingouinで検定をしていきます．"
   ]
  },
  {
   "cell_type": "markdown",
   "metadata": {},
   "source": [
    "まずは対応のある/ないt検定から行ってみます．\n",
    "\n",
    "[公式ドキュメント](https://pingouin-stats.org/build/html/generated/pingouin.ttest.html#pingouin.ttest)によると，引数は*array_like*と指定されています．\n",
    "*array_like*とは何ぞや？と言いたいところですが，「どうやら`np.array()`関数に引き渡して`ndarray`が作れるもの」というのが[公式の回答のようです](https://numpy.org/doc/stable/user/basics.creation.html)．\n",
    "`list`や`tuple`の形にしておけばとりあえず問題はなさそうです．\n",
    "\n",
    "先ほど作成したリストをそのまま引数に与えることができます．"
   ]
  },
  {
   "cell_type": "code",
   "execution_count": 43,
   "metadata": {},
   "outputs": [
    {
     "name": "stderr",
     "output_type": "stream",
     "text": [
      "c:\\Users\\zucky\\anaconda3\\Lib\\site-packages\\scipy\\stats\\_continuous_distns.py:7321: RuntimeWarning: divide by zero encountered in _nct_sf\n",
      "  return np.clip(_boost._nct_sf(x, df, nc), 0, 1)\n",
      "c:\\Users\\zucky\\anaconda3\\Lib\\site-packages\\scipy\\stats\\_continuous_distns.py:7313: RuntimeWarning: divide by zero encountered in _nct_cdf\n",
      "  return np.clip(_boost._nct_cdf(x, df, nc), 0, 1)\n"
     ]
    },
    {
     "data": {
      "text/html": [
       "<div>\n",
       "<style scoped>\n",
       "    .dataframe tbody tr th:only-of-type {\n",
       "        vertical-align: middle;\n",
       "    }\n",
       "\n",
       "    .dataframe tbody tr th {\n",
       "        vertical-align: top;\n",
       "    }\n",
       "\n",
       "    .dataframe thead th {\n",
       "        text-align: right;\n",
       "    }\n",
       "</style>\n",
       "<table border=\"1\" class=\"dataframe\">\n",
       "  <thead>\n",
       "    <tr style=\"text-align: right;\">\n",
       "      <th></th>\n",
       "      <th>T</th>\n",
       "      <th>dof</th>\n",
       "      <th>alternative</th>\n",
       "      <th>p-val</th>\n",
       "      <th>CI95%</th>\n",
       "      <th>cohen-d</th>\n",
       "      <th>BF10</th>\n",
       "      <th>power</th>\n",
       "    </tr>\n",
       "  </thead>\n",
       "  <tbody>\n",
       "    <tr>\n",
       "      <th>T-test</th>\n",
       "      <td>-1.0</td>\n",
       "      <td>3</td>\n",
       "      <td>two-sided</td>\n",
       "      <td>0.391002</td>\n",
       "      <td>[-2.09, 1.09]</td>\n",
       "      <td>0.707107</td>\n",
       "      <td>0.613</td>\n",
       "      <td>0.172093</td>\n",
       "    </tr>\n",
       "  </tbody>\n",
       "</table>\n",
       "</div>"
      ],
      "text/plain": [
       "          T  dof alternative     p-val          CI95%   cohen-d   BF10  \\\n",
       "T-test -1.0    3   two-sided  0.391002  [-2.09, 1.09]  0.707107  0.613   \n",
       "\n",
       "           power  \n",
       "T-test  0.172093  "
      ]
     },
     "execution_count": 43,
     "metadata": {},
     "output_type": "execute_result"
    }
   ],
   "source": [
    "#paired t-test (bwd)\n",
    "pg.ttest(ls_bwd_ctrl, ls_bwd_exp, paired=True)"
   ]
  },
  {
   "cell_type": "code",
   "execution_count": 42,
   "metadata": {},
   "outputs": [
    {
     "data": {
      "text/html": [
       "<div>\n",
       "<style scoped>\n",
       "    .dataframe tbody tr th:only-of-type {\n",
       "        vertical-align: middle;\n",
       "    }\n",
       "\n",
       "    .dataframe tbody tr th {\n",
       "        vertical-align: top;\n",
       "    }\n",
       "\n",
       "    .dataframe thead th {\n",
       "        text-align: right;\n",
       "    }\n",
       "</style>\n",
       "<table border=\"1\" class=\"dataframe\">\n",
       "  <thead>\n",
       "    <tr style=\"text-align: right;\">\n",
       "      <th></th>\n",
       "      <th>T</th>\n",
       "      <th>dof</th>\n",
       "      <th>alternative</th>\n",
       "      <th>p-val</th>\n",
       "      <th>CI95%</th>\n",
       "      <th>cohen-d</th>\n",
       "      <th>BF10</th>\n",
       "      <th>power</th>\n",
       "    </tr>\n",
       "  </thead>\n",
       "  <tbody>\n",
       "    <tr>\n",
       "      <th>T-test</th>\n",
       "      <td>-1.0</td>\n",
       "      <td>6</td>\n",
       "      <td>two-sided</td>\n",
       "      <td>0.355918</td>\n",
       "      <td>[-1.72, 0.72]</td>\n",
       "      <td>0.707107</td>\n",
       "      <td>0.695</td>\n",
       "      <td>0.135611</td>\n",
       "    </tr>\n",
       "  </tbody>\n",
       "</table>\n",
       "</div>"
      ],
      "text/plain": [
       "          T  dof alternative     p-val          CI95%   cohen-d   BF10  \\\n",
       "T-test -1.0    6   two-sided  0.355918  [-1.72, 0.72]  0.707107  0.695   \n",
       "\n",
       "           power  \n",
       "T-test  0.135611  "
      ]
     },
     "execution_count": 42,
     "metadata": {},
     "output_type": "execute_result"
    }
   ],
   "source": [
    "#unpaired t-test (bwd)\n",
    "pg.ttest(ls_bwd_ctrl, ls_bwd_exp)"
   ]
  },
  {
   "cell_type": "code",
   "execution_count": 45,
   "metadata": {},
   "outputs": [
    {
     "data": {
      "text/html": [
       "<div>\n",
       "<style scoped>\n",
       "    .dataframe tbody tr th:only-of-type {\n",
       "        vertical-align: middle;\n",
       "    }\n",
       "\n",
       "    .dataframe tbody tr th {\n",
       "        vertical-align: top;\n",
       "    }\n",
       "\n",
       "    .dataframe thead th {\n",
       "        text-align: right;\n",
       "    }\n",
       "</style>\n",
       "<table border=\"1\" class=\"dataframe\">\n",
       "  <thead>\n",
       "    <tr style=\"text-align: right;\">\n",
       "      <th></th>\n",
       "      <th>T</th>\n",
       "      <th>dof</th>\n",
       "      <th>alternative</th>\n",
       "      <th>p-val</th>\n",
       "      <th>CI95%</th>\n",
       "      <th>cohen-d</th>\n",
       "      <th>BF10</th>\n",
       "      <th>power</th>\n",
       "    </tr>\n",
       "  </thead>\n",
       "  <tbody>\n",
       "    <tr>\n",
       "      <th>T-test</th>\n",
       "      <td>2.080181</td>\n",
       "      <td>3</td>\n",
       "      <td>two-sided</td>\n",
       "      <td>0.12898</td>\n",
       "      <td>[-4.37, 20.87]</td>\n",
       "      <td>1.894759</td>\n",
       "      <td>1.251</td>\n",
       "      <td>0.713814</td>\n",
       "    </tr>\n",
       "  </tbody>\n",
       "</table>\n",
       "</div>"
      ],
      "text/plain": [
       "               T  dof alternative    p-val           CI95%   cohen-d   BF10  \\\n",
       "T-test  2.080181    3   two-sided  0.12898  [-4.37, 20.87]  1.894759  1.251   \n",
       "\n",
       "           power  \n",
       "T-test  0.713814  "
      ]
     },
     "execution_count": 45,
     "metadata": {},
     "output_type": "execute_result"
    }
   ],
   "source": [
    "#paired t-test (fwd)\n",
    "pg.ttest(ls_fwd_ctrl, ls_fwd_exp, paired=True)"
   ]
  },
  {
   "cell_type": "code",
   "execution_count": 46,
   "metadata": {},
   "outputs": [
    {
     "data": {
      "text/html": [
       "<div>\n",
       "<style scoped>\n",
       "    .dataframe tbody tr th:only-of-type {\n",
       "        vertical-align: middle;\n",
       "    }\n",
       "\n",
       "    .dataframe tbody tr th {\n",
       "        vertical-align: top;\n",
       "    }\n",
       "\n",
       "    .dataframe thead th {\n",
       "        text-align: right;\n",
       "    }\n",
       "</style>\n",
       "<table border=\"1\" class=\"dataframe\">\n",
       "  <thead>\n",
       "    <tr style=\"text-align: right;\">\n",
       "      <th></th>\n",
       "      <th>T</th>\n",
       "      <th>dof</th>\n",
       "      <th>alternative</th>\n",
       "      <th>p-val</th>\n",
       "      <th>CI95%</th>\n",
       "      <th>cohen-d</th>\n",
       "      <th>BF10</th>\n",
       "      <th>power</th>\n",
       "    </tr>\n",
       "  </thead>\n",
       "  <tbody>\n",
       "    <tr>\n",
       "      <th>T-test</th>\n",
       "      <td>2.679593</td>\n",
       "      <td>6</td>\n",
       "      <td>two-sided</td>\n",
       "      <td>0.036556</td>\n",
       "      <td>[0.72, 15.78]</td>\n",
       "      <td>1.894759</td>\n",
       "      <td>2.303</td>\n",
       "      <td>0.611154</td>\n",
       "    </tr>\n",
       "  </tbody>\n",
       "</table>\n",
       "</div>"
      ],
      "text/plain": [
       "               T  dof alternative     p-val          CI95%   cohen-d   BF10  \\\n",
       "T-test  2.679593    6   two-sided  0.036556  [0.72, 15.78]  1.894759  2.303   \n",
       "\n",
       "           power  \n",
       "T-test  0.611154  "
      ]
     },
     "execution_count": 46,
     "metadata": {},
     "output_type": "execute_result"
    }
   ],
   "source": [
    "#unpaired t-test (fwd)\n",
    "pg.ttest(ls_fwd_ctrl, ls_fwd_exp)"
   ]
  },
  {
   "cell_type": "code",
   "execution_count": 47,
   "metadata": {},
   "outputs": [
    {
     "name": "stderr",
     "output_type": "stream",
     "text": [
      "c:\\Users\\zucky\\anaconda3\\Lib\\site-packages\\scipy\\stats\\_continuous_distns.py:7321: RuntimeWarning: divide by zero encountered in _nct_sf\n",
      "  return np.clip(_boost._nct_sf(x, df, nc), 0, 1)\n",
      "c:\\Users\\zucky\\anaconda3\\Lib\\site-packages\\scipy\\stats\\_continuous_distns.py:7313: RuntimeWarning: divide by zero encountered in _nct_cdf\n",
      "  return np.clip(_boost._nct_cdf(x, df, nc), 0, 1)\n"
     ]
    },
    {
     "data": {
      "text/html": [
       "<div>\n",
       "<style scoped>\n",
       "    .dataframe tbody tr th:only-of-type {\n",
       "        vertical-align: middle;\n",
       "    }\n",
       "\n",
       "    .dataframe tbody tr th {\n",
       "        vertical-align: top;\n",
       "    }\n",
       "\n",
       "    .dataframe thead th {\n",
       "        text-align: right;\n",
       "    }\n",
       "</style>\n",
       "<table border=\"1\" class=\"dataframe\">\n",
       "  <thead>\n",
       "    <tr style=\"text-align: right;\">\n",
       "      <th></th>\n",
       "      <th>T</th>\n",
       "      <th>dof</th>\n",
       "      <th>alternative</th>\n",
       "      <th>p-val</th>\n",
       "      <th>CI95%</th>\n",
       "      <th>cohen-d</th>\n",
       "      <th>BF10</th>\n",
       "      <th>power</th>\n",
       "    </tr>\n",
       "  </thead>\n",
       "  <tbody>\n",
       "    <tr>\n",
       "      <th>T-test</th>\n",
       "      <td>1.127469</td>\n",
       "      <td>3</td>\n",
       "      <td>two-sided</td>\n",
       "      <td>0.341576</td>\n",
       "      <td>[-2.28, 4.78]</td>\n",
       "      <td>1.035098</td>\n",
       "      <td>0.664</td>\n",
       "      <td>0.304661</td>\n",
       "    </tr>\n",
       "  </tbody>\n",
       "</table>\n",
       "</div>"
      ],
      "text/plain": [
       "               T  dof alternative     p-val          CI95%   cohen-d   BF10  \\\n",
       "T-test  1.127469    3   two-sided  0.341576  [-2.28, 4.78]  1.035098  0.664   \n",
       "\n",
       "           power  \n",
       "T-test  0.304661  "
      ]
     },
     "execution_count": 47,
     "metadata": {},
     "output_type": "execute_result"
    }
   ],
   "source": [
    "#paired t-test (turn)\n",
    "pg.ttest(ls_turn_ctrl, ls_turn_exp, paired=True)"
   ]
  },
  {
   "cell_type": "code",
   "execution_count": 51,
   "metadata": {},
   "outputs": [
    {
     "data": {
      "text/html": [
       "<div>\n",
       "<style scoped>\n",
       "    .dataframe tbody tr th:only-of-type {\n",
       "        vertical-align: middle;\n",
       "    }\n",
       "\n",
       "    .dataframe tbody tr th {\n",
       "        vertical-align: top;\n",
       "    }\n",
       "\n",
       "    .dataframe thead th {\n",
       "        text-align: right;\n",
       "    }\n",
       "</style>\n",
       "<table border=\"1\" class=\"dataframe\">\n",
       "  <thead>\n",
       "    <tr style=\"text-align: right;\">\n",
       "      <th></th>\n",
       "      <th>T</th>\n",
       "      <th>dof</th>\n",
       "      <th>alternative</th>\n",
       "      <th>p-val</th>\n",
       "      <th>CI95%</th>\n",
       "      <th>cohen-d</th>\n",
       "      <th>BF10</th>\n",
       "      <th>power</th>\n",
       "    </tr>\n",
       "  </thead>\n",
       "  <tbody>\n",
       "    <tr>\n",
       "      <th>T-test</th>\n",
       "      <td>1.46385</td>\n",
       "      <td>6</td>\n",
       "      <td>two-sided</td>\n",
       "      <td>0.19357</td>\n",
       "      <td>[-0.84, 3.34]</td>\n",
       "      <td>1.035098</td>\n",
       "      <td>0.92</td>\n",
       "      <td>0.235635</td>\n",
       "    </tr>\n",
       "  </tbody>\n",
       "</table>\n",
       "</div>"
      ],
      "text/plain": [
       "              T  dof alternative    p-val          CI95%   cohen-d  BF10  \\\n",
       "T-test  1.46385    6   two-sided  0.19357  [-0.84, 3.34]  1.035098  0.92   \n",
       "\n",
       "           power  \n",
       "T-test  0.235635  "
      ]
     },
     "execution_count": 51,
     "metadata": {},
     "output_type": "execute_result"
    }
   ],
   "source": [
    "#unpaired t-test (turn)\n",
    "pg.ttest(ls_turn_ctrl, ls_turn_exp)"
   ]
  },
  {
   "cell_type": "markdown",
   "metadata": {},
   "source": [
    "2群の分散が等分散性が仮定できない場合に用いるWelchのt検定も行うことができます．\n",
    "\n",
    "デフォルトではサンプルサイズが異なる場合のみにWelchのt検定を用いるようになっているため引数で指定して実行させます．"
   ]
  },
  {
   "cell_type": "code",
   "execution_count": 49,
   "metadata": {},
   "outputs": [
    {
     "data": {
      "text/html": [
       "<div>\n",
       "<style scoped>\n",
       "    .dataframe tbody tr th:only-of-type {\n",
       "        vertical-align: middle;\n",
       "    }\n",
       "\n",
       "    .dataframe tbody tr th {\n",
       "        vertical-align: top;\n",
       "    }\n",
       "\n",
       "    .dataframe thead th {\n",
       "        text-align: right;\n",
       "    }\n",
       "</style>\n",
       "<table border=\"1\" class=\"dataframe\">\n",
       "  <thead>\n",
       "    <tr style=\"text-align: right;\">\n",
       "      <th></th>\n",
       "      <th>T</th>\n",
       "      <th>dof</th>\n",
       "      <th>alternative</th>\n",
       "      <th>p-val</th>\n",
       "      <th>CI95%</th>\n",
       "      <th>cohen-d</th>\n",
       "      <th>BF10</th>\n",
       "      <th>power</th>\n",
       "    </tr>\n",
       "  </thead>\n",
       "  <tbody>\n",
       "    <tr>\n",
       "      <th>T-test</th>\n",
       "      <td>1.46385</td>\n",
       "      <td>6</td>\n",
       "      <td>two-sided</td>\n",
       "      <td>0.19357</td>\n",
       "      <td>[-0.84, 3.34]</td>\n",
       "      <td>1.035098</td>\n",
       "      <td>0.92</td>\n",
       "      <td>0.235635</td>\n",
       "    </tr>\n",
       "  </tbody>\n",
       "</table>\n",
       "</div>"
      ],
      "text/plain": [
       "              T  dof alternative    p-val          CI95%   cohen-d  BF10  \\\n",
       "T-test  1.46385    6   two-sided  0.19357  [-0.84, 3.34]  1.035098  0.92   \n",
       "\n",
       "           power  \n",
       "T-test  0.235635  "
      ]
     },
     "execution_count": 49,
     "metadata": {},
     "output_type": "execute_result"
    }
   ],
   "source": [
    "#unpaired t-test (turn)\n",
    "pg.ttest(ls_turn_ctrl, ls_turn_exp, correction=False)\n",
    "\n",
    "#correction=Welch's correctionであり，サンプルサイズが同じ場合には適用されていない"
   ]
  },
  {
   "cell_type": "code",
   "execution_count": 50,
   "metadata": {},
   "outputs": [
    {
     "data": {
      "text/html": [
       "<div>\n",
       "<style scoped>\n",
       "    .dataframe tbody tr th:only-of-type {\n",
       "        vertical-align: middle;\n",
       "    }\n",
       "\n",
       "    .dataframe tbody tr th {\n",
       "        vertical-align: top;\n",
       "    }\n",
       "\n",
       "    .dataframe thead th {\n",
       "        text-align: right;\n",
       "    }\n",
       "</style>\n",
       "<table border=\"1\" class=\"dataframe\">\n",
       "  <thead>\n",
       "    <tr style=\"text-align: right;\">\n",
       "      <th></th>\n",
       "      <th>T</th>\n",
       "      <th>dof</th>\n",
       "      <th>alternative</th>\n",
       "      <th>p-val</th>\n",
       "      <th>CI95%</th>\n",
       "      <th>cohen-d</th>\n",
       "      <th>BF10</th>\n",
       "      <th>power</th>\n",
       "    </tr>\n",
       "  </thead>\n",
       "  <tbody>\n",
       "    <tr>\n",
       "      <th>T-test</th>\n",
       "      <td>1.46385</td>\n",
       "      <td>4.6343</td>\n",
       "      <td>two-sided</td>\n",
       "      <td>0.207564</td>\n",
       "      <td>[-1.0, 3.5]</td>\n",
       "      <td>1.035098</td>\n",
       "      <td>0.92</td>\n",
       "      <td>0.235635</td>\n",
       "    </tr>\n",
       "  </tbody>\n",
       "</table>\n",
       "</div>"
      ],
      "text/plain": [
       "              T     dof alternative     p-val        CI95%   cohen-d  BF10  \\\n",
       "T-test  1.46385  4.6343   two-sided  0.207564  [-1.0, 3.5]  1.035098  0.92   \n",
       "\n",
       "           power  \n",
       "T-test  0.235635  "
      ]
     },
     "execution_count": 50,
     "metadata": {},
     "output_type": "execute_result"
    }
   ],
   "source": [
    "#Welch's t-test (turn)\n",
    "pg.ttest(ls_turn_ctrl, ls_turn_exp, correction=True)\n",
    "\n",
    "#correction=True とすることで補正を行わせる"
   ]
  },
  {
   "cell_type": "markdown",
   "metadata": {},
   "source": [
    "ちなみに，`ttest(~).round([int])`で返り値を小数第何位まで表示させるか(どこで丸めるか)を指定できます．"
   ]
  },
  {
   "cell_type": "code",
   "execution_count": 44,
   "metadata": {},
   "outputs": [
    {
     "name": "stderr",
     "output_type": "stream",
     "text": [
      "c:\\Users\\zucky\\anaconda3\\Lib\\site-packages\\scipy\\stats\\_continuous_distns.py:7321: RuntimeWarning: divide by zero encountered in _nct_sf\n",
      "  return np.clip(_boost._nct_sf(x, df, nc), 0, 1)\n",
      "c:\\Users\\zucky\\anaconda3\\Lib\\site-packages\\scipy\\stats\\_continuous_distns.py:7313: RuntimeWarning: divide by zero encountered in _nct_cdf\n",
      "  return np.clip(_boost._nct_cdf(x, df, nc), 0, 1)\n"
     ]
    },
    {
     "data": {
      "text/html": [
       "<div>\n",
       "<style scoped>\n",
       "    .dataframe tbody tr th:only-of-type {\n",
       "        vertical-align: middle;\n",
       "    }\n",
       "\n",
       "    .dataframe tbody tr th {\n",
       "        vertical-align: top;\n",
       "    }\n",
       "\n",
       "    .dataframe thead th {\n",
       "        text-align: right;\n",
       "    }\n",
       "</style>\n",
       "<table border=\"1\" class=\"dataframe\">\n",
       "  <thead>\n",
       "    <tr style=\"text-align: right;\">\n",
       "      <th></th>\n",
       "      <th>T</th>\n",
       "      <th>dof</th>\n",
       "      <th>alternative</th>\n",
       "      <th>p-val</th>\n",
       "      <th>CI95%</th>\n",
       "      <th>cohen-d</th>\n",
       "      <th>BF10</th>\n",
       "      <th>power</th>\n",
       "    </tr>\n",
       "  </thead>\n",
       "  <tbody>\n",
       "    <tr>\n",
       "      <th>T-test</th>\n",
       "      <td>-1.0</td>\n",
       "      <td>3</td>\n",
       "      <td>two-sided</td>\n",
       "      <td>0.39</td>\n",
       "      <td>[-2.09, 1.09]</td>\n",
       "      <td>0.71</td>\n",
       "      <td>0.613</td>\n",
       "      <td>0.17</td>\n",
       "    </tr>\n",
       "  </tbody>\n",
       "</table>\n",
       "</div>"
      ],
      "text/plain": [
       "          T  dof alternative  p-val          CI95%  cohen-d   BF10  power\n",
       "T-test -1.0    3   two-sided   0.39  [-2.09, 1.09]     0.71  0.613   0.17"
      ]
     },
     "execution_count": 44,
     "metadata": {},
     "output_type": "execute_result"
    }
   ],
   "source": [
    "#paired t-test (bwd)\n",
    "#Round an array to the given number of decimals\n",
    "pg.ttest(ls_bwd_ctrl, ls_bwd_exp, paired=True).round(2)"
   ]
  },
  {
   "cell_type": "markdown",
   "metadata": {},
   "source": [
    "次はグラフを描いていきます．\n",
    "\n",
    "まずは描画に必要なものをimportします．"
   ]
  },
  {
   "cell_type": "code",
   "execution_count": 52,
   "metadata": {},
   "outputs": [],
   "source": [
    "import matplotlib as mpl\n",
    "import matplotlib.pyplot as plt\n",
    "\n",
    "import seaborn as sns\n",
    "import seaborn.objects as so"
   ]
  },
  {
   "cell_type": "markdown",
   "metadata": {},
   "source": [
    "pingouinの個人的に感動したポイントはpaired plotが楽に描けることです．\n",
    "[公式](https://pingouin-stats.org/build/html/generated/pingouin.plot_paired.html)によるとdataframeの形で与える必要があるようです．"
   ]
  },
  {
   "cell_type": "code",
   "execution_count": null,
   "metadata": {},
   "outputs": [],
   "source": []
  }
 ],
 "metadata": {
  "kernelspec": {
   "display_name": "base",
   "language": "python",
   "name": "python3"
  },
  "language_info": {
   "codemirror_mode": {
    "name": "ipython",
    "version": 3
   },
   "file_extension": ".py",
   "mimetype": "text/x-python",
   "name": "python",
   "nbconvert_exporter": "python",
   "pygments_lexer": "ipython3",
   "version": "3.11.5"
  }
 },
 "nbformat": 4,
 "nbformat_minor": 2
}
